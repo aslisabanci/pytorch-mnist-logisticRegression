{
 "cells": [
  {
   "cell_type": "code",
   "execution_count": 102,
   "metadata": {},
   "outputs": [],
   "source": [
    "import numpy as np\n",
    "import torch\n",
    "import torchvision\n",
    "from torchvision.datasets import MNIST\n",
    "import torchvision.transforms as transforms\n",
    "from torch.utils.data.sampler import SubsetRandomSampler\n",
    "from torch.utils.data.dataloader import DataLoader\n",
    "import torch.nn as nn\n",
    "import torch.nn.functional as F"
   ]
  },
  {
   "cell_type": "code",
   "execution_count": 88,
   "metadata": {},
   "outputs": [],
   "source": [
    "train_dataset_img = MNIST(root='data/', train=True, download=True)"
   ]
  },
  {
   "cell_type": "code",
   "execution_count": 89,
   "metadata": {
    "scrolled": true
   },
   "outputs": [
    {
     "name": "stdout",
     "output_type": "stream",
     "text": [
      "\u001b[34mdata\u001b[m\u001b[m                   mnist-most_basic.ipynb\r\n",
      "\r\n",
      "./data:\r\n",
      "\u001b[34mMNIST\u001b[m\u001b[m\r\n",
      "\r\n",
      "./data/MNIST:\r\n",
      "\u001b[34mprocessed\u001b[m\u001b[m \u001b[34mraw\u001b[m\u001b[m\r\n",
      "\r\n",
      "./data/MNIST/processed:\r\n",
      "test.pt     training.pt\r\n",
      "\r\n",
      "./data/MNIST/raw:\r\n",
      "t10k-images-idx3-ubyte     train-images-idx3-ubyte\r\n",
      "t10k-images-idx3-ubyte.gz  train-images-idx3-ubyte.gz\r\n",
      "t10k-labels-idx1-ubyte     train-labels-idx1-ubyte\r\n",
      "t10k-labels-idx1-ubyte.gz  train-labels-idx1-ubyte.gz\r\n"
     ]
    }
   ],
   "source": [
    "#Let's check the contents of our directory recursively\n",
    "!ls -R"
   ]
  },
  {
   "cell_type": "code",
   "execution_count": 90,
   "metadata": {},
   "outputs": [],
   "source": [
    "test_dataset_img = MNIST(root='data/', train=False)"
   ]
  },
  {
   "cell_type": "code",
   "execution_count": 91,
   "metadata": {},
   "outputs": [
    {
     "data": {
      "text/plain": [
       "(60000, 10000)"
      ]
     },
     "execution_count": 91,
     "metadata": {},
     "output_type": "execute_result"
    }
   ],
   "source": [
    "len(train_dataset_img), len(test_dataset_img)"
   ]
  },
  {
   "cell_type": "code",
   "execution_count": 92,
   "metadata": {},
   "outputs": [],
   "source": [
    "import matplotlib.pyplot as plt\n",
    "%matplotlib inline"
   ]
  },
  {
   "cell_type": "code",
   "execution_count": 93,
   "metadata": {},
   "outputs": [
    {
     "data": {
      "text/plain": [
       "(<matplotlib.image.AxesImage at 0x125d18850>, 9)"
      ]
     },
     "execution_count": 93,
     "metadata": {},
     "output_type": "execute_result"
    },
    {
     "data": {
      "image/png": "[encoded data removed]",
      "text/plain": [
       "<Figure size 432x288 with 1 Axes>"
      ]
     },
     "metadata": {
      "needs_background": "light"
     },
     "output_type": "display_data"
    }
   ],
   "source": [
    "rand_img, label = train_dataset_img[43]\n",
    "plt.imshow(rand_img), label"
   ]
  },
  {
   "cell_type": "code",
   "execution_count": 94,
   "metadata": {},
   "outputs": [
    {
     "name": "stdout",
     "output_type": "stream",
     "text": [
      "torch.Size([1, 28, 28]) 9\n"
     ]
    }
   ],
   "source": [
    "train_dataset_tensor = MNIST(root='data/', train=True, transform=transforms.ToTensor())\n",
    "random_tensor, label = train_dataset_tensor[43]\n",
    "print (random_tensor.shape, label)"
   ]
  },
  {
   "cell_type": "code",
   "execution_count": 95,
   "metadata": {},
   "outputs": [
    {
     "name": "stdout",
     "output_type": "stream",
     "text": [
      "torch.Size([28, 28])\n"
     ]
    },
    {
     "data": {
      "text/plain": [
       "<matplotlib.image.AxesImage at 0x125c854d0>"
      ]
     },
     "execution_count": 95,
     "metadata": {},
     "output_type": "execute_result"
    },
    {
     "data": {
      "image/png": "[encoded data removed]",
      "text/plain": [
       "<Figure size 432x288 with 1 Axes>"
      ]
     },
     "metadata": {
      "needs_background": "light"
     },
     "output_type": "display_data"
    }
   ],
   "source": [
    "print(random_tensor[0].shape)\n",
    "plt.imshow(random_tensor[0])"
   ]
  },
  {
   "cell_type": "code",
   "execution_count": 96,
   "metadata": {},
   "outputs": [
    {
     "name": "stdout",
     "output_type": "stream",
     "text": [
      "48000 12000\n"
     ]
    }
   ],
   "source": [
    "def get_train_val_idxs(dataset, val_percent):\n",
    "    total_size = len(dataset)\n",
    "    val_size = int(total_size * val_percent)\n",
    "    shuffled_idxs = np.random.permutation(total_size)\n",
    "    return shuffled_idxs[val_size:], shuffled_idxs[:val_size]\n",
    "\n",
    "train_idxs, val_idxs = get_train_val_idxs(train_dataset_tensor, 0.2)\n",
    "print(len(train_idxs), len(val_idxs))"
   ]
  },
  {
   "cell_type": "code",
   "execution_count": 97,
   "metadata": {},
   "outputs": [],
   "source": [
    "BATCH_SIZE = 100\n",
    "train_loader = DataLoader(dataset=train_dataset_tensor, \n",
    "                          batch_size=BATCH_SIZE,\n",
    "                          sampler=SubsetRandomSampler(train_idxs))\n",
    "val_loader = DataLoader(dataset=train_dataset_tensor, \n",
    "                          batch_size=BATCH_SIZE,\n",
    "                          sampler=SubsetRandomSampler(val_idxs))"
   ]
  },
  {
   "cell_type": "code",
   "execution_count": 131,
   "metadata": {},
   "outputs": [],
   "source": [
    "INPUT_SIZE = 28*28\n",
    "NUM_CLASSES = 10\n",
    "\n",
    "class CustomMNISTModel(nn.Module):\n",
    "    def __init__(self):\n",
    "        super().__init__()\n",
    "        self.linear_model = nn.Linear(INPUT_SIZE, NUM_CLASSES)\n",
    "        \n",
    "    def forward(self, xb):\n",
    "        #print(f'shape before reshape: {xb.shape}')\n",
    "        xb = xb.reshape(-1, INPUT_SIZE)\n",
    "        #print(f'shape after reshape: {xb.shape}')\n",
    "        out = self.linear_model(xb)\n",
    "        return out"
   ]
  },
  {
   "cell_type": "code",
   "execution_count": 132,
   "metadata": {},
   "outputs": [
    {
     "name": "stdout",
     "output_type": "stream",
     "text": [
      "weights shape: torch.Size([10, 784])\n",
      "bias shape: torch.Size([10])\n",
      "output shape: torch.Size([100, 10])\n"
     ]
    }
   ],
   "source": [
    "model = CustomMNISTModel()\n",
    "print(f'weights shape: {model.linear_model.weight.shape}')\n",
    "print(f'bias shape: {model.linear_model.bias.shape}')\n",
    "\n",
    "for images, labels in train_loader:\n",
    "    outputs = model(images)\n",
    "    break\n",
    "print(f'output shape: {outputs.shape}')    "
   ]
  },
  {
   "cell_type": "code",
   "execution_count": 133,
   "metadata": {},
   "outputs": [
    {
     "name": "stdout",
     "output_type": "stream",
     "text": [
      "probabilities of first output: tensor([0.1174, 0.0975, 0.0945, 0.1018, 0.0932, 0.0976, 0.0985, 0.0953, 0.1067,\n",
      "        0.0976], grad_fn=<SelectBackward>)\n",
      "sum of the above: 1.0\n",
      "max_vals of first output: 0.11735672503709793\n",
      "max_idxs of first output: 0\n"
     ]
    }
   ],
   "source": [
    "probs = F.softmax(outputs, dim=1)\n",
    "print(f'probabilities of first output: {probs[0]}')\n",
    "print(f'sum of the above: {torch.sum(probs[0])}')\n",
    "\n",
    "# Here, I'm expecting to see the max value of the probabilities above\n",
    "# And the index corresponding to that will give the predicted number\n",
    "max_vals, max_idxs = torch.max(probs, dim=1)\n",
    "print(f'max_vals of first output: {max_vals[0]}')\n",
    "print(f'max_idxs of first output: {max_idxs[0]}')"
   ]
  },
  {
   "cell_type": "code",
   "execution_count": 134,
   "metadata": {},
   "outputs": [
    {
     "name": "stdout",
     "output_type": "stream",
     "text": [
      "non-differentiable basic accuracy: 0.13\n",
      "differentiable, cross entropy loss: 2.3553218841552734\n"
     ]
    }
   ],
   "source": [
    "def calc_accuracy(preds, labels):\n",
    "    max_vals, max_idxs = torch.max(preds, dim=1)\n",
    "    return torch.sum(max_idxs==labels).item() / len(max_idxs)\n",
    "accuracy = calc_accuracy(outputs, labels)\n",
    "print(f'non-differentiable basic accuracy: {accuracy}')\n",
    "\n",
    "loss = F.cross_entropy(outputs, labels)\n",
    "print(f'differentiable, cross entropy loss: {loss}')"
   ]
  },
  {
   "cell_type": "code",
   "execution_count": 167,
   "metadata": {},
   "outputs": [],
   "source": [
    "def batch_loss_train(model, loss_func, inputs, labels, opt):\n",
    "    preds = model(inputs)\n",
    "    loss = loss_func(preds, labels)\n",
    "    loss.backward()\n",
    "    opt.step()\n",
    "    opt.zero_grad()\n",
    "    return loss.item()\n",
    "\n",
    "def batch_loss_valid(model, loss_func, inputs, labels, metric_func):\n",
    "    preds = model(inputs)\n",
    "    loss = loss_func(preds, labels)\n",
    "    result_metric = metric_func(preds, labels)\n",
    "    return loss.item(), len(inputs), result_metric\n",
    "\n",
    "def eval_for_metric(model, loss_func, valid_loader, metric_func):\n",
    "    with torch.no_grad():\n",
    "        val_results = [batch_loss_valid(model, \n",
    "                                        loss_func, \n",
    "                                        inputs, \n",
    "                                        labels, \n",
    "                                        metric_func) \n",
    "                       for inputs,labels in val_loader]\n",
    "        losses, lens, results = zip(*val_results)\n",
    "        total_len = np.sum(lens)\n",
    "        avg_loss = np.sum(np.multiply(losses, lens)) / total_len\n",
    "        avg_metric = np.sum(np.multiply(results, lens)) / total_len\n",
    "    return avg_loss, avg_metric"
   ]
  },
  {
   "cell_type": "code",
   "execution_count": 154,
   "metadata": {},
   "outputs": [
    {
     "name": "stdout",
     "output_type": "stream",
     "text": [
      "avg val loss: 1.8746709416309992\n",
      "avg_val_acc: 0.66275\n"
     ]
    }
   ],
   "source": [
    "avg_val_loss, avg_val_acc = eval_for_metric(model,\n",
    "                                            loss_fn,\n",
    "                                            val_loader, \n",
    "                                            calc_accuracy)\n",
    "print(f'avg val loss: {avg_val_loss}\\navg_val_acc: {avg_val_acc}')"
   ]
  },
  {
   "cell_type": "code",
   "execution_count": 171,
   "metadata": {},
   "outputs": [
    {
     "name": "stdout",
     "output_type": "stream",
     "text": [
      "epoch:0/50 - loss:1.8936725348234176 - calc_accuracy:0.6448333333333334\n",
      "epoch:1/50 - loss:1.5879455526669821 - calc_accuracy:0.7465\n",
      "epoch:2/50 - loss:1.3736194262901942 - calc_accuracy:0.77625\n",
      "epoch:3/50 - loss:1.2201799660921098 - calc_accuracy:0.7941666666666667\n",
      "epoch:4/50 - loss:1.1067562838395437 - calc_accuracy:0.8065833333333333\n",
      "epoch:5/50 - loss:1.0201753740509352 - calc_accuracy:0.8155\n",
      "epoch:6/50 - loss:0.9521220778425534 - calc_accuracy:0.8218333333333333\n",
      "epoch:7/50 - loss:0.8973137433330218 - calc_accuracy:0.8275\n",
      "epoch:8/50 - loss:0.85218425989151 - calc_accuracy:0.8325833333333333\n",
      "epoch:9/50 - loss:0.8143189842502276 - calc_accuracy:0.8380833333333333\n",
      "epoch:10/50 - loss:0.7821044241388638 - calc_accuracy:0.8420833333333333\n",
      "epoch:11/50 - loss:0.7542943671345711 - calc_accuracy:0.8458333333333333\n",
      "epoch:12/50 - loss:0.7300466914971669 - calc_accuracy:0.8478333333333333\n",
      "epoch:13/50 - loss:0.7087292090058327 - calc_accuracy:0.8499166666666667\n",
      "epoch:14/50 - loss:0.6897371878226598 - calc_accuracy:0.8533333333333334\n",
      "epoch:15/50 - loss:0.6727465798457464 - calc_accuracy:0.8555\n",
      "epoch:16/50 - loss:0.6574487832685312 - calc_accuracy:0.85725\n",
      "epoch:17/50 - loss:0.6435783977309862 - calc_accuracy:0.8576666666666667\n",
      "epoch:18/50 - loss:0.6309126029411952 - calc_accuracy:0.85925\n",
      "epoch:19/50 - loss:0.6193264486889044 - calc_accuracy:0.8609166666666667\n",
      "epoch:20/50 - loss:0.6086613344649474 - calc_accuracy:0.862\n",
      "epoch:21/50 - loss:0.5988377710183461 - calc_accuracy:0.86325\n",
      "epoch:22/50 - loss:0.5897268531223138 - calc_accuracy:0.8639166666666667\n",
      "epoch:23/50 - loss:0.5812537121276061 - calc_accuracy:0.86525\n",
      "epoch:24/50 - loss:0.5733338964482149 - calc_accuracy:0.8665833333333334\n",
      "epoch:25/50 - loss:0.5659114196896553 - calc_accuracy:0.8675833333333334\n",
      "epoch:26/50 - loss:0.5590069234371186 - calc_accuracy:0.8684166666666666\n",
      "epoch:27/50 - loss:0.5524605927368005 - calc_accuracy:0.8691666666666666\n",
      "epoch:28/50 - loss:0.5463058878978093 - calc_accuracy:0.8699166666666667\n",
      "epoch:29/50 - loss:0.5405074012776215 - calc_accuracy:0.87075\n",
      "epoch:30/50 - loss:0.53501091375947 - calc_accuracy:0.8711666666666666\n",
      "epoch:31/50 - loss:0.5298182455201944 - calc_accuracy:0.8721666666666666\n",
      "epoch:32/50 - loss:0.5248888964454334 - calc_accuracy:0.8728333333333333\n",
      "epoch:33/50 - loss:0.5201948642730713 - calc_accuracy:0.8731666666666666\n",
      "epoch:34/50 - loss:0.5157118126749992 - calc_accuracy:0.8738333333333334\n",
      "epoch:35/50 - loss:0.5114389091730118 - calc_accuracy:0.8750833333333333\n",
      "epoch:36/50 - loss:0.5073648055394491 - calc_accuracy:0.8756666666666667\n",
      "epoch:37/50 - loss:0.503462427854538 - calc_accuracy:0.8763333333333333\n",
      "epoch:38/50 - loss:0.4997307007511457 - calc_accuracy:0.8764166666666666\n",
      "epoch:39/50 - loss:0.49616772681474686 - calc_accuracy:0.8765\n",
      "epoch:40/50 - loss:0.4927492971221606 - calc_accuracy:0.8766666666666667\n",
      "epoch:41/50 - loss:0.4894373844067256 - calc_accuracy:0.8773333333333333\n",
      "epoch:42/50 - loss:0.48627072225014367 - calc_accuracy:0.8776666666666667\n",
      "epoch:43/50 - loss:0.4832114286720753 - calc_accuracy:0.8784166666666666\n",
      "epoch:44/50 - loss:0.48027848775188126 - calc_accuracy:0.8789166666666667\n",
      "epoch:45/50 - loss:0.47745425924658774 - calc_accuracy:0.8795833333333334\n",
      "epoch:46/50 - loss:0.4747014758487543 - calc_accuracy:0.8803333333333333\n",
      "epoch:47/50 - loss:0.4720666743814945 - calc_accuracy:0.8809166666666667\n",
      "epoch:48/50 - loss:0.46953004772464435 - calc_accuracy:0.88125\n",
      "epoch:49/50 - loss:0.4670523412525654 - calc_accuracy:0.8813333333333333\n"
     ]
    },
    {
     "data": {
      "image/png": "[encoded data removed]",
      "text/plain": [
       "<Figure size 432x288 with 1 Axes>"
      ]
     },
     "metadata": {
      "needs_background": "light"
     },
     "output_type": "display_data"
    }
   ],
   "source": [
    "def fit(num_of_epochs, model, loss_func, opt, train_loader, val_loader, val_metric_func):\n",
    "    val_metrics = []\n",
    "    for epoch in range(num_of_epochs):\n",
    "        for inputs, labels in train_loader:\n",
    "            train_loss = batch_loss_train(model, \n",
    "                                          loss_func, \n",
    "                                          inputs, \n",
    "                                          labels, \n",
    "                                          opt)\n",
    "            \n",
    "        val_loss, val_metric_result = eval_for_metric(model, \n",
    "                                                      loss_func, \n",
    "                                                      val_loader, \n",
    "                                                      val_metric_func)\n",
    "        \n",
    "        print(f'epoch:{epoch}/{num_of_epochs} - loss:{val_loss} - {val_metric_func.__name__}:{val_metric_result}')\n",
    "        val_metrics.append(val_metric_result)\n",
    "    return val_metrics\n",
    "\n",
    "LEARNING_RATE = 0.001\n",
    "model = CustomMNISTModel()\n",
    "opt = torch.optim.SGD(model.parameters(), lr=LEARNING_RATE)\n",
    "loss_func = F.cross_entropy\n",
    "accuracies = fit(50, \n",
    "                 model, \n",
    "                 loss_func, \n",
    "                 opt, \n",
    "                 train_loader, \n",
    "                 val_loader, \n",
    "                 calc_accuracy)\n",
    "plt.plot(accuracies, '-x')\n",
    "plt.xlabel('epoch')\n",
    "plt.ylabel('accuracy')\n",
    "plt.title('Accuracy vs. No. of epochs');"
   ]
  },
  {
   "cell_type": "code",
   "execution_count": 172,
   "metadata": {},
   "outputs": [
    {
     "name": "stdout",
     "output_type": "stream",
     "text": [
      "predicted label: 4\n"
     ]
    },
    {
     "data": {
      "image/png": "[encoded data removed]",
      "text/plain": [
       "<Figure size 432x288 with 1 Axes>"
      ]
     },
     "metadata": {
      "needs_background": "light"
     },
     "output_type": "display_data"
    }
   ],
   "source": [
    "def predict_img_label(img):\n",
    "    inputs = img.unsqueeze(0)\n",
    "    predict = model(inputs)\n",
    "    max_vals, max_idxs = torch.max(predict, dim=1)\n",
    "    return max_idxs[0]\n",
    "\n",
    "test_dataset_tensor = MNIST(root='data/', train=False, transform=transforms.ToTensor())\n",
    "random_img, label = test_dataset_tensor[42]\n",
    "plt.imshow(random_img[0])\n",
    "\n",
    "print(f'predicted label: {predict_img_label(random_img)}')"
   ]
  },
  {
   "cell_type": "code",
   "execution_count": 173,
   "metadata": {},
   "outputs": [
    {
     "name": "stdout",
     "output_type": "stream",
     "text": [
      "test loss: 0.46705234199762347 with test accuracy result: 0.8813333333333333\n"
     ]
    }
   ],
   "source": [
    "test_loader = DataLoader(test_dataset_tensor, BATCH_SIZE)\n",
    "test_loss, test_metric_result = eval_for_metric(model, \n",
    "                                                loss_func, \n",
    "                                                test_loader, \n",
    "                                                calc_accuracy)\n",
    "print(f'test loss: {test_loss} with test accuracy result: {test_metric_result}')"
   ]
  },
  {
   "cell_type": "code",
   "execution_count": 174,
   "metadata": {},
   "outputs": [
    {
     "data": {
      "text/plain": [
       "OrderedDict([('linear_model.weight',\n",
       "              tensor([[ 0.0186,  0.0168, -0.0294,  ...,  0.0229, -0.0109,  0.0293],\n",
       "                      [-0.0014,  0.0208, -0.0120,  ..., -0.0203,  0.0028, -0.0355],\n",
       "                      [-0.0003,  0.0132,  0.0045,  ..., -0.0157,  0.0110,  0.0068],\n",
       "                      ...,\n",
       "                      [-0.0075, -0.0281, -0.0063,  ..., -0.0063,  0.0056,  0.0256],\n",
       "                      [ 0.0110, -0.0251,  0.0084,  ..., -0.0180, -0.0286, -0.0054],\n",
       "                      [ 0.0021, -0.0325,  0.0083,  ..., -0.0096, -0.0197, -0.0024]])),\n",
       "             ('linear_model.bias',\n",
       "              tensor([-0.0582,  0.1526, -0.0477, -0.0329,  0.0604,  0.1375, -0.0320,  0.0628,\n",
       "                      -0.2190, -0.0320]))])"
      ]
     },
     "execution_count": 174,
     "metadata": {},
     "output_type": "execute_result"
    }
   ],
   "source": [
    "model.state_dict()"
   ]
  },
  {
   "cell_type": "code",
   "execution_count": 178,
   "metadata": {},
   "outputs": [
    {
     "name": "stdout",
     "output_type": "stream",
     "text": [
      "reloaded model test loss: 0.4670523390173912 with test accuracy result: 0.8813333333333333\n"
     ]
    }
   ],
   "source": [
    "MODEL_PATH = 'saved-mnist-logisticRegression.pth'\n",
    "torch.save(model.state_dict(), MODEL_PATH)\n",
    "\n",
    "#Let's make sure that the reloaded model has the same params\n",
    "reloaded_model = CustomMNISTModel()\n",
    "reloaded_model.load_state_dict(torch.load(MODEL_PATH))\n",
    "reloaded_model.state_dict()\n",
    "\n",
    "reloaded_test_loss, reloaded_test_metric_result = eval_for_metric(reloaded_model, \n",
    "                                                                  loss_func, \n",
    "                                                                  test_loader, \n",
    "                                                                  calc_accuracy)\n",
    "print(f'reloaded model test loss: {reloaded_test_loss} with test accuracy result: {reloaded_test_metric_result}')"
   ]
  },
  {
   "cell_type": "code",
   "execution_count": null,
   "metadata": {},
   "outputs": [],
   "source": []
  }
 ],
 "metadata": {
  "kernelspec": {
   "display_name": "Python 3",
   "language": "python",
   "name": "python3"
  },
  "language_info": {
   "codemirror_mode": {
    "name": "ipython",
    "version": 3
   },
   "file_extension": ".py",
   "mimetype": "text/x-python",
   "name": "python",
   "nbconvert_exporter": "python",
   "pygments_lexer": "ipython3",
   "version": "3.7.6"
  }
 },
 "nbformat": 4,
 "nbformat_minor": 4
}
